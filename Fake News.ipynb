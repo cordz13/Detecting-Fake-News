{
 "cells": [
  {
   "cell_type": "markdown",
   "metadata": {},
   "source": [
    "# Detecting Fake News\n",
    "\n",
    "Do you trust all the news you hear from social media?\n",
    "All news are not real, right?\n",
    "\n",
    "So how will you detect fake news?\n",
    "The answer is Python. We can easily make a difference between real and fake news by using advanced Python techniques.\n",
    "\n",
    "In order for us to program, we need to be aware of key terms like:\n",
    "\n",
    "1. **Fake news** \n",
    "2. **Tfidfvectorizer**\n",
    "3. **PassiveAggressive Classifer**"
   ]
  },
  {
   "cell_type": "markdown",
   "metadata": {},
   "source": [
    "# What is Fake News?\n",
    "\n",
    "A type of yellow journalism, fake news encapsulate pieces of news that may be hoaxes and is generaly spread through social media and other online media. This is often done to further or impose certain ideas and is often achieved with political agendas. Such news items may contain false and/or exaggerated claims, and may end up being viralized by algorithms, and users may end up in a filter bubble.\n"
   ]
  },
  {
   "cell_type": "markdown",
   "metadata": {},
   "source": [
    "# What is a TfidfVectorizer?\n",
    "\n",
    "**TF(Term Frequency):** The number of times a word appears in a documents is tis Term Frequency. A higher value means a term appears more often than others, and so, the document is a good match when the term is part of the search terms.\n",
    "\n",
    "**IDF(Inverse Document Frequency):** Words that occur many times a document, but also occur many times in many others, may be irrelevant. IDF is a measure of how significant a term is in the entire corpus(collection).\n",
    "\n",
    "The Tfidfvectorizer converts a collection of raw documents into a matrix of TF-IDF features."
   ]
  },
  {
   "cell_type": "markdown",
   "metadata": {},
   "source": [
    "# What is a PassiveAggressive Classifier?\n",
    "\n",
    "Passive Aggressive algorithms are online learning algorithms. Such an algorithm remains passive for a correct classification outcome, and turns aggressive in the event of a miscalculation, updating and adjusting. Unlike most other algorithms, it does not converge. Its purpose is to make updates that correct the loss, causing verylittle change in the norm of the weight vector."
   ]
  },
  {
   "cell_type": "code",
   "execution_count": null,
   "metadata": {},
   "outputs": [],
   "source": []
  }
 ],
 "metadata": {
  "kernelspec": {
   "display_name": "Python 3",
   "language": "python",
   "name": "python3"
  },
  "language_info": {
   "codemirror_mode": {
    "name": "ipython",
    "version": 3
   },
   "file_extension": ".py",
   "mimetype": "text/x-python",
   "name": "python",
   "nbconvert_exporter": "python",
   "pygments_lexer": "ipython3",
   "version": "3.7.1"
  }
 },
 "nbformat": 4,
 "nbformat_minor": 2
}
